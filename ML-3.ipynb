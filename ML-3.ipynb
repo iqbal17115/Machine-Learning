{
 "cells": [
  {
   "cell_type": "code",
   "execution_count": 20,
   "id": "14c5f9c3",
   "metadata": {},
   "outputs": [
    {
     "name": "stdout",
     "output_type": "stream",
     "text": [
      "Hello,  Iqbal how are you?\n"
     ]
    }
   ],
   "source": [
    "var1 = 'Hello'\n",
    "var2 = ' Iqbal'\n",
    "msg = var1+', '+var2+' how are you?'\n",
    "print(msg)"
   ]
  },
  {
   "cell_type": "code",
   "execution_count": 21,
   "id": "fee81021",
   "metadata": {},
   "outputs": [
    {
     "name": "stdout",
     "output_type": "stream",
     "text": [
      "Hello,  Iqbal how are you?\n"
     ]
    }
   ],
   "source": [
    "msg = '{}, {} how are you?'.format(var1, var2)\n",
    "print(msg)"
   ]
  },
  {
   "cell_type": "code",
   "execution_count": 22,
   "id": "c5ee5cd3",
   "metadata": {},
   "outputs": [
    {
     "name": "stdout",
     "output_type": "stream",
     "text": [
      "Message Shelf\n",
      "<class 'str'>\n",
      "message shelf\n",
      "MESSAGE SHELF\n",
      "13\n",
      "1\n",
      "8\n"
     ]
    }
   ],
   "source": [
    "msg = 'Message Shelf'\n",
    "print(msg)\n",
    "print(type(msg))\n",
    "print(msg.lower())\n",
    "print(msg.upper())\n",
    "print(len(msg))\n",
    "print(msg.count('a'))\n",
    "print(msg.find('Shelf'))"
   ]
  }
 ],
 "metadata": {
  "kernelspec": {
   "display_name": "Python 3 (ipykernel)",
   "language": "python",
   "name": "python3"
  },
  "language_info": {
   "codemirror_mode": {
    "name": "ipython",
    "version": 3
   },
   "file_extension": ".py",
   "mimetype": "text/x-python",
   "name": "python",
   "nbconvert_exporter": "python",
   "pygments_lexer": "ipython3",
   "version": "3.9.7"
  }
 },
 "nbformat": 4,
 "nbformat_minor": 5
}
