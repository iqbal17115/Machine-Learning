{
 "cells": [
  {
   "cell_type": "code",
   "execution_count": 3,
   "id": "99602966",
   "metadata": {},
   "outputs": [
    {
     "data": {
      "image/png": "[encoded data removed]",
      "text/plain": [
       "<Figure size 432x288 with 1 Axes>"
      ]
     },
     "metadata": {
      "needs_background": "light"
     },
     "output_type": "display_data"
    }
   ],
   "source": [
    "import matplotlib.pyplot as plt\n",
    "\n",
    "x = [1, 2, 3, 4, 5]\n",
    "y = [10, 24, 14, 30, 40]\n",
    "\n",
    "tick_label = [\"One\", \"Two\", \"Three\", \"Four\", \"Five\"]\n",
    "plt.bar(x, y, tick_label=tick_label, width=0.7, color=['green', 'blue', 'red'])\n",
    "plt.xlabel('X-label')\n",
    "plt.ylabel('Y-label')\n",
    "plt.title('Bar Graph')\n",
    "plt.show()"
   ]
  }
 ],
 "metadata": {
  "kernelspec": {
   "display_name": "Python 3 (ipykernel)",
   "language": "python",
   "name": "python3"
  },
  "language_info": {
   "codemirror_mode": {
    "name": "ipython",
    "version": 3
   },
   "file_extension": ".py",
   "mimetype": "text/x-python",
   "name": "python",
   "nbconvert_exporter": "python",
   "pygments_lexer": "ipython3",
   "version": "3.9.7"
  }
 },
 "nbformat": 4,
 "nbformat_minor": 5
}
