{
 "cells": [
  {
   "cell_type": "code",
   "execution_count": 25,
   "id": "0f3a775f",
   "metadata": {},
   "outputs": [
    {
     "data": {
      "text/plain": [
       "int"
      ]
     },
     "execution_count": 25,
     "metadata": {},
     "output_type": "execute_result"
    }
   ],
   "source": [
    "var1 = 10\n",
    "type(var1)"
   ]
  },
  {
   "cell_type": "code",
   "execution_count": 26,
   "id": "ee735009",
   "metadata": {},
   "outputs": [
    {
     "data": {
      "text/plain": [
       "float"
      ]
     },
     "execution_count": 26,
     "metadata": {},
     "output_type": "execute_result"
    }
   ],
   "source": [
    "var2 = 10.50\n",
    "type(var2)"
   ]
  },
  {
   "cell_type": "code",
   "execution_count": 27,
   "id": "60673b7d",
   "metadata": {},
   "outputs": [
    {
     "data": {
      "text/plain": [
       "str"
      ]
     },
     "execution_count": 27,
     "metadata": {},
     "output_type": "execute_result"
    }
   ],
   "source": [
    "var2 = 'Hello'\n",
    "type(var2)"
   ]
  },
  {
   "cell_type": "code",
   "execution_count": 28,
   "id": "1b9b1163",
   "metadata": {},
   "outputs": [
    {
     "name": "stdout",
     "output_type": "stream",
     "text": [
      "3.142857142857143\n"
     ]
    }
   ],
   "source": [
    "var1 = 22\n",
    "var2 = 7\n",
    "print(var1/var2)"
   ]
  },
  {
   "cell_type": "code",
   "execution_count": 29,
   "id": "ee7a6f0a",
   "metadata": {},
   "outputs": [
    {
     "name": "stdout",
     "output_type": "stream",
     "text": [
      "Enter Your First Value: 22\n",
      "Enter Your Second Value: 7\n"
     ]
    }
   ],
   "source": [
    "var1=int(input(\"Enter Your First Value: \"))\n",
    "var2=int(input(\"Enter Your Second Value: \"))"
   ]
  },
  {
   "cell_type": "code",
   "execution_count": 30,
   "id": "46a7097c",
   "metadata": {},
   "outputs": [
    {
     "name": "stdout",
     "output_type": "stream",
     "text": [
      "29\n",
      "15\n",
      "154\n",
      "3.142857142857143\n",
      "3\n",
      "1\n"
     ]
    }
   ],
   "source": [
    "print(var1 + var2)\n",
    "print(var1 - var2)\n",
    "print(var1 * var2)\n",
    "print(var1 / var2)\n",
    "print(var1 // var2)\n",
    "print(var1 % var2)"
   ]
  }
 ],
 "metadata": {
  "kernelspec": {
   "display_name": "Python 3 (ipykernel)",
   "language": "python",
   "name": "python3"
  },
  "language_info": {
   "codemirror_mode": {
    "name": "ipython",
    "version": 3
   },
   "file_extension": ".py",
   "mimetype": "text/x-python",
   "name": "python",
   "nbconvert_exporter": "python",
   "pygments_lexer": "ipython3",
   "version": "3.9.7"
  }
 },
 "nbformat": 4,
 "nbformat_minor": 5
}
