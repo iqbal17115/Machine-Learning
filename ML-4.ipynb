{
 "cells": [
  {
   "cell_type": "code",
   "execution_count": 12,
   "id": "2fe29288",
   "metadata": {},
   "outputs": [
    {
     "name": "stdout",
     "output_type": "stream",
     "text": [
      "For value of I: 1\n",
      "For value of I: 2\n",
      "For value of I: 3\n",
      "For value of I: 4\n",
      "For value of I: 5\n",
      "For value of I: 6\n",
      "For value of I: 7\n",
      "For value of I: 8\n",
      "For value of I: 9\n",
      "For value of I: 10\n",
      "For value of I: 11\n"
     ]
    }
   ],
   "source": [
    "for i in range(1, 12):\n",
    "    print('For value of I: '+str(i))"
   ]
  },
  {
   "cell_type": "code",
   "execution_count": 13,
   "id": "2e892bce",
   "metadata": {},
   "outputs": [
    {
     "name": "stdout",
     "output_type": "stream",
     "text": [
      "For 1, Squared value is 1, Curbed value is 1: \n",
      "For 2, Squared value is 4, Curbed value is 8: \n",
      "For 3, Squared value is 9, Curbed value is 27: \n",
      "For 4, Squared value is 16, Curbed value is 64: \n",
      "For 5, Squared value is 25, Curbed value is 125: \n",
      "For 6, Squared value is 36, Curbed value is 216: \n",
      "For 7, Squared value is 49, Curbed value is 343: \n",
      "For 8, Squared value is 64, Curbed value is 512: \n",
      "For 9, Squared value is 81, Curbed value is 729: \n",
      "For 10, Squared value is 100, Curbed value is 1000: \n",
      "For 11, Squared value is 121, Curbed value is 1331: \n"
     ]
    }
   ],
   "source": [
    "for i in range(1, 12):\n",
    "    print('For {}, Squared value is {}, Curbed value is {}: '.format(i, i**2, i**3))"
   ]
  }
 ],
 "metadata": {
  "kernelspec": {
   "display_name": "Python 3 (ipykernel)",
   "language": "python",
   "name": "python3"
  },
  "language_info": {
   "codemirror_mode": {
    "name": "ipython",
    "version": 3
   },
   "file_extension": ".py",
   "mimetype": "text/x-python",
   "name": "python",
   "nbconvert_exporter": "python",
   "pygments_lexer": "ipython3",
   "version": "3.9.7"
  }
 },
 "nbformat": 4,
 "nbformat_minor": 5
}
