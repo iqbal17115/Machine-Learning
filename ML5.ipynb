{
 "cells": [
  {
   "cell_type": "code",
   "execution_count": null,
   "id": "5c25583c",
   "metadata": {},
   "outputs": [],
   "source": [
    "def Welcome():\n",
    "    print('Hello World!!')\n",
    "Welcome()"
   ]
  },
  {
   "cell_type": "code",
   "execution_count": null,
   "id": "66eff6cf",
   "metadata": {},
   "outputs": [],
   "source": [
    "def Summation():\n",
    "    var1=int(input('Enter Your First Value: '))\n",
    "    var2=int(input('Enter Your Second Value: '))\n",
    "    print(\"Sum: \", var1+var2)\n",
    "Summation()"
   ]
  },
  {
   "cell_type": "code",
   "execution_count": null,
   "id": "0a51f0da",
   "metadata": {},
   "outputs": [],
   "source": [
    "def Subtract(var1, var2):\n",
    "    print('Dif: ', var1-var2)\n",
    "Subtract()"
   ]
  }
 ],
 "metadata": {
  "kernelspec": {
   "display_name": "Python 3 (ipykernel)",
   "language": "python",
   "name": "python3"
  },
  "language_info": {
   "codemirror_mode": {
    "name": "ipython",
    "version": 3
   },
   "file_extension": ".py",
   "mimetype": "text/x-python",
   "name": "python",
   "nbconvert_exporter": "python",
   "pygments_lexer": "ipython3",
   "version": "3.9.7"
  }
 },
 "nbformat": 4,
 "nbformat_minor": 5
}
