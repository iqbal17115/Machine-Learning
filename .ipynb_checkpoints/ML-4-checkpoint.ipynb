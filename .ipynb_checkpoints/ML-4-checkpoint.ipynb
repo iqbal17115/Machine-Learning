{
 "cells": [
  {
   "cell_type": "code",
   "execution_count": 10,
   "id": "8d9273f7",
   "metadata": {},
   "outputs": [
    {
     "name": "stdout",
     "output_type": "stream",
     "text": [
      "For value of I: 1\n",
      "For value of I: 2\n",
      "For value of I: 3\n",
      "For value of I: 4\n",
      "For value of I: 5\n",
      "For value of I: 6\n",
      "For value of I: 7\n",
      "For value of I: 8\n",
      "For value of I: 9\n",
      "For value of I: 10\n",
      "For value of I: 11\n"
     ]
    }
   ],
   "source": [
    "for i in range(1, 12):\n",
    "    print('For value of I: '+str(i))"
   ]
  },
  {
   "cell_type": "code",
   "execution_count": 11,
   "id": "06e25f40",
   "metadata": {},
   "outputs": [
    {
     "ename": "SyntaxError",
     "evalue": "unexpected EOF while parsing (Temp/ipykernel_13812/348565443.py, line 2)",
     "output_type": "error",
     "traceback": [
      "\u001b[1;36m  File \u001b[1;32m\"C:\\Users\\IQBALK~1\\AppData\\Local\\Temp/ipykernel_13812/348565443.py\"\u001b[1;36m, line \u001b[1;32m2\u001b[0m\n\u001b[1;33m    print('For {}, Squared value is {}, Curbed value is {}: '.format(i, i**2, i**3)\u001b[0m\n\u001b[1;37m                                                                                   ^\u001b[0m\n\u001b[1;31mSyntaxError\u001b[0m\u001b[1;31m:\u001b[0m unexpected EOF while parsing\n"
     ]
    }
   ],
   "source": [
    "for i in range(1, 12):\n",
    "    print('For {}, Squared value is {}, Curbed value is {}: '.format(i, i**2, i**3))"
   ]
  }
 ],
 "metadata": {
  "kernelspec": {
   "display_name": "Python 3 (ipykernel)",
   "language": "python",
   "name": "python3"
  },
  "language_info": {
   "codemirror_mode": {
    "name": "ipython",
    "version": 3
   },
   "file_extension": ".py",
   "mimetype": "text/x-python",
   "name": "python",
   "nbconvert_exporter": "python",
   "pygments_lexer": "ipython3",
   "version": "3.9.7"
  }
 },
 "nbformat": 4,
 "nbformat_minor": 5
}
