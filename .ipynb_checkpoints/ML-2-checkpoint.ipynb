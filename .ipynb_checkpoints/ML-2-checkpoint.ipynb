{
 "cells": [
  {
   "cell_type": "code",
   "execution_count": 20,
   "id": "0f3a775f",
   "metadata": {},
   "outputs": [
    {
     "data": {
      "text/plain": [
       "int"
      ]
     },
     "execution_count": 20,
     "metadata": {},
     "output_type": "execute_result"
    }
   ],
   "source": [
    "var1 = 10\n",
    "type(var1)"
   ]
  },
  {
   "cell_type": "code",
   "execution_count": 21,
   "id": "d9ef24b5",
   "metadata": {},
   "outputs": [
    {
     "data": {
      "text/plain": [
       "float"
      ]
     },
     "execution_count": 21,
     "metadata": {},
     "output_type": "execute_result"
    }
   ],
   "source": [
    "var2 = 10.50\n",
    "type(var2)"
   ]
  },
  {
   "cell_type": "code",
   "execution_count": 22,
   "id": "0bace8bc",
   "metadata": {},
   "outputs": [
    {
     "data": {
      "text/plain": [
       "str"
      ]
     },
     "execution_count": 22,
     "metadata": {},
     "output_type": "execute_result"
    }
   ],
   "source": [
    "var2 = 'Hello'\n",
    "type(var2)"
   ]
  },
  {
   "cell_type": "code",
   "execution_count": 23,
   "id": "c88974d7",
   "metadata": {},
   "outputs": [
    {
     "name": "stdout",
     "output_type": "stream",
     "text": [
      "3.142857142857143\n"
     ]
    }
   ],
   "source": [
    "var1 = 22\n",
    "var2 = 7\n",
    "print(var1/var2)"
   ]
  },
  {
   "cell_type": "code",
   "execution_count": 24,
   "id": "c3f100db",
   "metadata": {},
   "outputs": [
    {
     "name": "stdout",
     "output_type": "stream",
     "text": [
      "Enter Your First Value: 12\n",
      "Enter Your Second Value: 3\n"
     ]
    }
   ],
   "source": [
    "var1=int(input(\"Enter Your First Value: \"))\n",
    "var2=int(input(\"Enter Your Second Value: \"))"
   ]
  },
  {
   "cell_type": "code",
   "execution_count": null,
   "id": "e8068164",
   "metadata": {},
   "outputs": [],
   "source": [
    "print(var1 + var2)\n",
    "print(var1 - var2)\n",
    "print(var1 * var2)\n",
    "print(var1 / var2)\n",
    "print(var1 // var2)\n",
    "print(var1 % var2)"
   ]
  }
 ],
 "metadata": {
  "kernelspec": {
   "display_name": "Python 3 (ipykernel)",
   "language": "python",
   "name": "python3"
  },
  "language_info": {
   "codemirror_mode": {
    "name": "ipython",
    "version": 3
   },
   "file_extension": ".py",
   "mimetype": "text/x-python",
   "name": "python",
   "nbconvert_exporter": "python",
   "pygments_lexer": "ipython3",
   "version": "3.9.7"
  }
 },
 "nbformat": 4,
 "nbformat_minor": 5
}
