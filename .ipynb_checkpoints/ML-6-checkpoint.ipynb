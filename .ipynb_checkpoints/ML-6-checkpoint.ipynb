{
 "cells": [
  {
   "cell_type": "code",
   "execution_count": 4,
   "id": "624e4f16",
   "metadata": {},
   "outputs": [
    {
     "name": "stdout",
     "output_type": "stream",
     "text": [
      "12\n"
     ]
    }
   ],
   "source": [
    "age= int(input())"
   ]
  },
  {
   "cell_type": "code",
   "execution_count": 5,
   "id": "35287efc",
   "metadata": {},
   "outputs": [
    {
     "name": "stdout",
     "output_type": "stream",
     "text": [
      "You are not capable for vote!!\n"
     ]
    }
   ],
   "source": [
    "if(age>=18):\n",
    "    print(\"You are capable for vote!!\")\n",
    "else:\n",
    "    print(\"You are not capable for vote!!\")"
   ]
  },
  {
   "cell_type": "code",
   "execution_count": null,
   "id": "41e2fc8f",
   "metadata": {},
   "outputs": [],
   "source": [
    "mark= int(input())\n",
    "if(mark>=80):\n",
    "    print(\"A+\")\n",
    "elif(mark>=70):\n",
    "    print(\"A\")\n",
    "elif(mark>=60):\n",
    "    print(\"A-\")\n",
    "elif(mark>=50):\n",
    "    print(\"B+\")\n",
    "elif(mark>=40):\n",
    "    print(\"B\")\n",
    "else:\n",
    "    print(\"Fail\")"
   ]
  }
 ],
 "metadata": {
  "kernelspec": {
   "display_name": "Python 3 (ipykernel)",
   "language": "python",
   "name": "python3"
  },
  "language_info": {
   "codemirror_mode": {
    "name": "ipython",
    "version": 3
   },
   "file_extension": ".py",
   "mimetype": "text/x-python",
   "name": "python",
   "nbconvert_exporter": "python",
   "pygments_lexer": "ipython3",
   "version": "3.9.7"
  }
 },
 "nbformat": 4,
 "nbformat_minor": 5
}
