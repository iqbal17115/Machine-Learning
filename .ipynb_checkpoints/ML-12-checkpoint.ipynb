{
 "cells": [
  {
   "cell_type": "code",
   "execution_count": 1,
   "id": "eef63380",
   "metadata": {},
   "outputs": [],
   "source": [
    "import matplotlib.pyplot as plt\n",
    "\n",
    "activities = ['eat', 'sleep', 'work', 'play']\n",
    "\n",
    "slices = [3, 7, 8, 6]\n",
    "\n",
    "colors = ['r', 'g', 'm', 'b']\n",
    "\n",
    "plt.pie(slices, labels=activities, colors=colors, startangle=90, shadow=90, explode=(0.2, 0, 0, 0), autopct='%1.2f%%')\n",
    "\n",
    "plt.legend()\n",
    "\n",
    "plt.show()"
   ]
  }
 ],
 "metadata": {
  "kernelspec": {
   "display_name": "Python 3 (ipykernel)",
   "language": "python",
   "name": "python3"
  },
  "language_info": {
   "codemirror_mode": {
    "name": "ipython",
    "version": 3
   },
   "file_extension": ".py",
   "mimetype": "text/x-python",
   "name": "python",
   "nbconvert_exporter": "python",
   "pygments_lexer": "ipython3",
   "version": "3.9.7"
  }
 },
 "nbformat": 4,
 "nbformat_minor": 5
}
