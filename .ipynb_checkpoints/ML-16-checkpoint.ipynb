{
 "cells": [
  {
   "cell_type": "code",
   "execution_count": 14,
   "id": "7d028c59",
   "metadata": {},
   "outputs": [
    {
     "data": {
      "text/plain": [
       "0      3\n",
       "1     99\n",
       "2     45\n",
       "3     23\n",
       "4     87\n",
       "5      6\n",
       "6     98\n",
       "7      6\n",
       "8     76\n",
       "9     55\n",
       "10    44\n",
       "11    49\n",
       "dtype: int64"
      ]
     },
     "execution_count": 14,
     "metadata": {},
     "output_type": "execute_result"
    }
   ],
   "source": [
    "import pandas as pd\n",
    "\n",
    "Rate = [3,99,45,23,87,6,98,6,76,55,44,49]\n",
    "r=pd.Series(Rate)\n",
    "\n",
    "r"
   ]
  },
  {
   "cell_type": "code",
   "execution_count": 15,
   "id": "e4b131fb",
   "metadata": {},
   "outputs": [
    {
     "data": {
      "text/plain": [
       "591"
      ]
     },
     "execution_count": 15,
     "metadata": {},
     "output_type": "execute_result"
    }
   ],
   "source": [
    "r.sum()"
   ]
  },
  {
   "cell_type": "code",
   "execution_count": 16,
   "id": "d9fa6892",
   "metadata": {},
   "outputs": [
    {
     "data": {
      "text/plain": [
       "850295080627977600"
      ]
     },
     "execution_count": 16,
     "metadata": {},
     "output_type": "execute_result"
    }
   ],
   "source": [
    "r.product()"
   ]
  },
  {
   "cell_type": "code",
   "execution_count": 17,
   "id": "0f8f8ffc",
   "metadata": {},
   "outputs": [
    {
     "data": {
      "text/plain": [
       "49.25"
      ]
     },
     "execution_count": 17,
     "metadata": {},
     "output_type": "execute_result"
    }
   ],
   "source": [
    "r.mean()"
   ]
  },
  {
   "cell_type": "code",
   "execution_count": 18,
   "id": "139aa19c",
   "metadata": {},
   "outputs": [
    {
     "data": {
      "text/plain": [
       "Saturday         Apple\n",
       "Sunday           Mango\n",
       "Monday           Grape\n",
       "Tuesday     Watermelon\n",
       "dtype: object"
      ]
     },
     "execution_count": 18,
     "metadata": {},
     "output_type": "execute_result"
    }
   ],
   "source": [
    "fruits=['Apple', 'Mango', 'Grape', 'Watermelon']\n",
    "weekdays=['Saturday', 'Sunday', 'Monday', 'Tuesday']\n",
    "pd.Series(fruits, weekdays)\n",
    "pd.Series(data=fruits, index=weekdays)\n",
    "pd.Series(fruits, index=weekdays)"
   ]
  },
  {
   "cell_type": "code",
   "execution_count": null,
   "id": "7ae718d1",
   "metadata": {},
   "outputs": [],
   "source": []
  }
 ],
 "metadata": {
  "kernelspec": {
   "display_name": "Python 3 (ipykernel)",
   "language": "python",
   "name": "python3"
  },
  "language_info": {
   "codemirror_mode": {
    "name": "ipython",
    "version": 3
   },
   "file_extension": ".py",
   "mimetype": "text/x-python",
   "name": "python",
   "nbconvert_exporter": "python",
   "pygments_lexer": "ipython3",
   "version": "3.9.7"
  }
 },
 "nbformat": 4,
 "nbformat_minor": 5
}
