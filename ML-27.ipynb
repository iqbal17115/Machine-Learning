{
 "cells": [
  {
   "cell_type": "code",
   "execution_count": 17,
   "id": "9518da3f",
   "metadata": {},
   "outputs": [
    {
     "data": {
      "text/plain": [
       "0        50.12\n",
       "1        54.10\n",
       "2        54.65\n",
       "3        52.38\n",
       "4        52.95\n",
       "         ...  \n",
       "3007    772.88\n",
       "3008    771.07\n",
       "3009    773.18\n",
       "3010    771.61\n",
       "3011    782.22\n",
       "Name: Stock Price, Length: 3012, dtype: float64"
      ]
     },
     "execution_count": 17,
     "metadata": {},
     "output_type": "execute_result"
    }
   ],
   "source": [
    "import pandas as pd\n",
    "\n",
    "google = pd.read_csv('google_stock_price.csv', squeeze=True)\n",
    "google"
   ]
  },
  {
   "cell_type": "code",
   "execution_count": 18,
   "id": "37e77a7a",
   "metadata": {},
   "outputs": [],
   "source": [
    "def classify_val(number):\n",
    "    if number<300:\n",
    "        return \"OK\"\n",
    "    elif number>=300 and number<=650:\n",
    "        return \"Satisfactory\"\n",
    "    else:\n",
    "        return \"Incredible\""
   ]
  },
  {
   "cell_type": "code",
   "execution_count": 19,
   "id": "9aeec795",
   "metadata": {},
   "outputs": [
    {
     "data": {
      "text/plain": [
       "0               OK\n",
       "1               OK\n",
       "2               OK\n",
       "3               OK\n",
       "4               OK\n",
       "           ...    \n",
       "3007    Incredible\n",
       "3008    Incredible\n",
       "3009    Incredible\n",
       "3010    Incredible\n",
       "3011    Incredible\n",
       "Name: Stock Price, Length: 3012, dtype: object"
      ]
     },
     "execution_count": 19,
     "metadata": {},
     "output_type": "execute_result"
    }
   ],
   "source": [
    "google.apply(classify_val)"
   ]
  },
  {
   "cell_type": "code",
   "execution_count": 20,
   "id": "3b10d098",
   "metadata": {},
   "outputs": [
    {
     "data": {
      "text/plain": [
       "0    OK\n",
       "1    OK\n",
       "2    OK\n",
       "3    OK\n",
       "4    OK\n",
       "5    OK\n",
       "6    OK\n",
       "7    OK\n",
       "8    OK\n",
       "9    OK\n",
       "Name: Stock Price, dtype: object"
      ]
     },
     "execution_count": 20,
     "metadata": {},
     "output_type": "execute_result"
    }
   ],
   "source": [
    "google.apply(classify_val).head(10)"
   ]
  },
  {
   "cell_type": "code",
   "execution_count": 21,
   "id": "aef4902e",
   "metadata": {},
   "outputs": [
    {
     "data": {
      "text/plain": [
       "3002    Incredible\n",
       "3003    Incredible\n",
       "3004    Incredible\n",
       "3005    Incredible\n",
       "3006    Incredible\n",
       "3007    Incredible\n",
       "3008    Incredible\n",
       "3009    Incredible\n",
       "3010    Incredible\n",
       "3011    Incredible\n",
       "Name: Stock Price, dtype: object"
      ]
     },
     "execution_count": 21,
     "metadata": {},
     "output_type": "execute_result"
    }
   ],
   "source": [
    "google.apply(classify_val).tail(10)"
   ]
  },
  {
   "cell_type": "code",
   "execution_count": 22,
   "id": "13d64d7a",
   "metadata": {},
   "outputs": [
    {
     "data": {
      "text/plain": [
       "0        51.12\n",
       "1        55.10\n",
       "2        55.65\n",
       "3        53.38\n",
       "4        53.95\n",
       "         ...  \n",
       "3007    773.88\n",
       "3008    772.07\n",
       "3009    774.18\n",
       "3010    772.61\n",
       "3011    783.22\n",
       "Name: Stock Price, Length: 3012, dtype: float64"
      ]
     },
     "execution_count": 22,
     "metadata": {},
     "output_type": "execute_result"
    }
   ],
   "source": [
    "google.apply(lambda stock_price: stock_price+1)"
   ]
  }
 ],
 "metadata": {
  "kernelspec": {
   "display_name": "Python 3 (ipykernel)",
   "language": "python",
   "name": "python3"
  },
  "language_info": {
   "codemirror_mode": {
    "name": "ipython",
    "version": 3
   },
   "file_extension": ".py",
   "mimetype": "text/x-python",
   "name": "python",
   "nbconvert_exporter": "python",
   "pygments_lexer": "ipython3",
   "version": "3.9.7"
  }
 },
 "nbformat": 4,
 "nbformat_minor": 5
}
