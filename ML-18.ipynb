{
 "cells": [
  {
   "cell_type": "code",
   "execution_count": 58,
   "id": "b3759d95",
   "metadata": {},
   "outputs": [
    {
     "data": {
      "text/plain": [
       "0       Bulbasaur\n",
       "1         Ivysaur\n",
       "2        Venusaur\n",
       "3      Charmander\n",
       "4      Charmeleon\n",
       "          ...    \n",
       "716       Yveltal\n",
       "717       Zygarde\n",
       "718       Diancie\n",
       "719         Hoopa\n",
       "720     Volcanion\n",
       "Name: Pokemon, Length: 721, dtype: object"
      ]
     },
     "execution_count": 58,
     "metadata": {},
     "output_type": "execute_result"
    }
   ],
   "source": [
    "import pandas as pd\n",
    "\n",
    "pokemon = pd.read_csv('pokemon.csv', usecols=['Pokemon'], squeeze=True)\n",
    "pokemon"
   ]
  },
  {
   "cell_type": "code",
   "execution_count": 59,
   "id": "95674eb0",
   "metadata": {},
   "outputs": [
    {
     "data": {
      "text/plain": [
       "717      Zygarde\n",
       "633     Zweilous\n",
       "40         Zubat\n",
       "569        Zorua\n",
       "570      Zoroark\n",
       "262    Zigzagoon\n",
       "643       Zekrom\n",
       "522    Zebstrika\n",
       "144       Zapdos\n",
       "334     Zangoose\n",
       "716      Yveltal\n",
       "468      Yanmega\n",
       "192        Yanma\n",
       "561       Yamask\n",
       "715      Xerneas\n",
       "Name: Pokemon, dtype: object"
      ]
     },
     "execution_count": 59,
     "metadata": {},
     "output_type": "execute_result"
    }
   ],
   "source": [
    "pokemon.sort_values(ascending=False).head(15)"
   ]
  },
  {
   "cell_type": "code",
   "execution_count": 60,
   "id": "0965998d",
   "metadata": {},
   "outputs": [
    {
     "data": {
      "text/plain": [
       "459     Abomasnow\n",
       "62           Abra\n",
       "358         Absol\n",
       "616      Accelgor\n",
       "680     Aegislash\n",
       "141    Aerodactyl\n",
       "305        Aggron\n",
       "189         Aipom\n",
       "64       Alakazam\n",
       "593     Alomomola\n",
       "333       Altaria\n",
       "697        Amaura\n",
       "423       Ambipom\n",
       "590     Amoonguss\n",
       "180      Ampharos\n",
       "Name: Pokemon, dtype: object"
      ]
     },
     "execution_count": 60,
     "metadata": {},
     "output_type": "execute_result"
    }
   ],
   "source": [
    "pokemon.sort_values().head(15)"
   ]
  },
  {
   "cell_type": "code",
   "execution_count": 61,
   "id": "06a7d5fd",
   "metadata": {},
   "outputs": [
    {
     "data": {
      "text/plain": [
       "11    49.95\n",
       "9     50.07\n",
       "0     50.12\n",
       "10    50.70\n",
       "12    50.74\n",
       "7     50.95\n",
       "14    51.10\n",
       "13    51.10\n",
       "8     51.13\n",
       "3     52.38\n",
       "15    52.61\n",
       "4     52.95\n",
       "6     53.02\n",
       "16    53.70\n",
       "5     53.90\n",
       "Name: Stock Price, dtype: float64"
      ]
     },
     "execution_count": 61,
     "metadata": {},
     "output_type": "execute_result"
    }
   ],
   "source": [
    "google_stack_price = pd.read_csv('google_stock_price.csv', squeeze=True)\n",
    "google_stack_price.sort_values(ascending=True).head(15)"
   ]
  },
  {
   "cell_type": "code",
   "execution_count": 62,
   "id": "9aa9739f",
   "metadata": {},
   "outputs": [
    {
     "data": {
      "text/plain": [
       "3011    782.22\n",
       "2859    776.60\n",
       "3009    773.18\n",
       "3007    772.88\n",
       "3010    771.61\n",
       "3008    771.07\n",
       "2860    771.00\n",
       "3006    768.79\n",
       "2840    767.04\n",
       "2843    766.81\n",
       "2934    766.61\n",
       "2882    764.65\n",
       "2844    763.25\n",
       "2858    762.51\n",
       "2841    762.38\n",
       "Name: Stock Price, dtype: float64"
      ]
     },
     "execution_count": 62,
     "metadata": {},
     "output_type": "execute_result"
    }
   ],
   "source": [
    "google_stack_price.sort_values(ascending=False).head(15)"
   ]
  },
  {
   "cell_type": "code",
   "execution_count": null,
   "id": "a956e048",
   "metadata": {},
   "outputs": [],
   "source": []
  }
 ],
 "metadata": {
  "kernelspec": {
   "display_name": "Python 3 (ipykernel)",
   "language": "python",
   "name": "python3"
  },
  "language_info": {
   "codemirror_mode": {
    "name": "ipython",
    "version": 3
   },
   "file_extension": ".py",
   "mimetype": "text/x-python",
   "name": "python",
   "nbconvert_exporter": "python",
   "pygments_lexer": "ipython3",
   "version": "3.9.7"
  }
 },
 "nbformat": 4,
 "nbformat_minor": 5
}
