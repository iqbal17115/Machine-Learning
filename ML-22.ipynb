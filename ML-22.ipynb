{
 "cells": [
  {
   "cell_type": "code",
   "execution_count": 21,
   "id": "09fe2cbf",
   "metadata": {},
   "outputs": [
    {
     "data": {
      "text/plain": [
       "0     Bulbasaur\n",
       "1       Ivysaur\n",
       "2      Venusaur\n",
       "3    Charmander\n",
       "4    Charmeleon\n",
       "5     Charizard\n",
       "6      Squirtle\n",
       "7     Wartortle\n",
       "8     Blastoise\n",
       "9      Caterpie\n",
       "Name: Pokemon, dtype: object"
      ]
     },
     "execution_count": 21,
     "metadata": {},
     "output_type": "execute_result"
    }
   ],
   "source": [
    "import pandas as pd\n",
    "\n",
    "pokemon=pd.read_csv('pokemon.csv', usecols=[\"Pokemon\"], squeeze=True)\n",
    "pokemon.head(10)"
   ]
  },
  {
   "cell_type": "code",
   "execution_count": 22,
   "id": "366f27e7",
   "metadata": {},
   "outputs": [
    {
     "data": {
      "text/plain": [
       "717      Zygarde\n",
       "633     Zweilous\n",
       "40         Zubat\n",
       "569        Zorua\n",
       "570      Zoroark\n",
       "262    Zigzagoon\n",
       "643       Zekrom\n",
       "522    Zebstrika\n",
       "144       Zapdos\n",
       "334     Zangoose\n",
       "Name: Pokemon, dtype: object"
      ]
     },
     "execution_count": 22,
     "metadata": {},
     "output_type": "execute_result"
    }
   ],
   "source": [
    "pokemon.sort_values(ascending=False, inplace=True)\n",
    "pokemon.head(10)"
   ]
  },
  {
   "cell_type": "code",
   "execution_count": 23,
   "id": "a3ca12b3",
   "metadata": {},
   "outputs": [
    {
     "data": {
      "text/plain": [
       "720    Volcanion\n",
       "719        Hoopa\n",
       "718      Diancie\n",
       "717      Zygarde\n",
       "716      Yveltal\n",
       "715      Xerneas\n",
       "714      Noivern\n",
       "713       Noibat\n",
       "712      Avalugg\n",
       "711     Bergmite\n",
       "Name: Pokemon, dtype: object"
      ]
     },
     "execution_count": 23,
     "metadata": {},
     "output_type": "execute_result"
    }
   ],
   "source": [
    "pokemon.sort_index(ascending=False, inplace=True)\n",
    "pokemon.head(10)"
   ]
  }
 ],
 "metadata": {
  "kernelspec": {
   "display_name": "Python 3 (ipykernel)",
   "language": "python",
   "name": "python3"
  },
  "language_info": {
   "codemirror_mode": {
    "name": "ipython",
    "version": 3
   },
   "file_extension": ".py",
   "mimetype": "text/x-python",
   "name": "python",
   "nbconvert_exporter": "python",
   "pygments_lexer": "ipython3",
   "version": "3.9.7"
  }
 },
 "nbformat": 4,
 "nbformat_minor": 5
}
